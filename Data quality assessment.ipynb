{
 "cells": [
  {
   "cell_type": "markdown",
   "metadata": {},
   "source": [
    "This notebook outlines the data quality assessment steps.\n",
    "Using test dataset /data3/adams/apertif/UGC8261, with configuration file /home/adams/apertif/DATA/cfg/UGC8261.cfg (http://happili-01.astron.nl:8002/edit/apertif/DATA/cfg/UGC8261.cfg). Or does someone else have a better example dataset?\n",
    "\n",
    "\n",
    "Overall question for data assessment - how do we record? Google form for shakedown maybe, but should some of this go in the Apertif Task Database and/or ALTA?"
   ]
  },
  {
   "cell_type": "code",
   "execution_count": 4,
   "metadata": {},
   "outputs": [],
   "source": [
    "#Setup apercal environment\n",
    "import os;\n",
    "myusername = os.environ['USER']\n",
    "if not ('PYTHONPATH' in os.environ and\n",
    "        '/home/' + myusername + '/apercal' in os.environ['PYTHONPATH']):\n",
    "      print(\"WARNING: your apercal directory should be in the $PYTHONPATH\")\n",
    "        "
   ]
  },
  {
   "cell_type": "code",
   "execution_count": 5,
   "metadata": {},
   "outputs": [
    {
     "name": "stderr",
     "output_type": "stream",
     "text": [
      "root - INFO : Logging started!\n",
      "root - INFO : To see the log in a bash window use the following command:\n",
      "root - INFO : tail -n +1 -f /home/adams/apertif/DATA/logs/DQA.log\n"
     ]
    },
    {
     "name": "stdout",
     "output_type": "stream",
     "text": [
      "Setup logger with lib.setup_logger()\n"
     ]
    },
    {
     "data": {
      "text/plain": [
       "<logging.RootLogger at 0x7fb7d7e21c90>"
      ]
     },
     "execution_count": 5,
     "metadata": {},
     "output_type": "execute_result"
    }
   ],
   "source": [
    "#set up logging\n",
    "%config IPCompleter.greedy=True\n",
    "%matplotlib notebook\n",
    "import libs.lib as lib\n",
    "lib.setup_logger('info', logfile='/home/{}/apertif/DATA/logs/DQA.log'.format(myusername))"
   ]
  },
  {
   "cell_type": "code",
   "execution_count": 6,
   "metadata": {},
   "outputs": [],
   "source": [
    "import apercal"
   ]
  },
  {
   "cell_type": "code",
   "execution_count": 7,
   "metadata": {},
   "outputs": [],
   "source": [
    "#Read the parameter file used for the Apercal run\n",
    "cfgfile ='/home/adams/apertif/DATA/cfg/UGC8261.cfg'"
   ]
  },
  {
   "cell_type": "code",
   "execution_count": 42,
   "metadata": {},
   "outputs": [],
   "source": [
    "#import things needed for interacting with data\n",
    "import libs.lib as lib\n",
    "import subs.readmirlog\n",
    "import numpy as np\n",
    "from matplotlib import pyplot as plt\n",
    "import subs\n",
    "import sys\n",
    "\n",
    "import glob\n",
    "import shutil\n",
    "from IPython.display import Image"
   ]
  },
  {
   "cell_type": "code",
   "execution_count": 1,
   "metadata": {},
   "outputs": [
    {
     "data": {
      "text/plain": [
       "'Use RFInder to estimate the amount of RFI present in dataset'"
      ]
     },
     "execution_count": 1,
     "metadata": {},
     "output_type": "execute_result"
    }
   ],
   "source": [
    "#Run the prepare module\n",
    "\n",
    "\"\"\"Use RFInder to estimate the amount of RFI present in dataset\"\"\"\n",
    "#do that here!"
   ]
  },
  {
   "cell_type": "code",
   "execution_count": 2,
   "metadata": {},
   "outputs": [
    {
     "data": {
      "text/plain": [
       "\"Use RFInder with rfi_par.cfg_par['rfi']['RFInder_mode'] = 'use_flags'\\nto see the actual flagging.\\nCompare to predicted flagging (above)\\nKeep predicted noise as a record to compare to output from imstat after making line cube\\n\""
      ]
     },
     "execution_count": 2,
     "metadata": {},
     "output_type": "execute_result"
    }
   ],
   "source": [
    "#Run the flagging module - preflag, bandpass, aoflagger\n",
    "\n",
    "\"\"\"Use RFInder with rfi_par.cfg_par['rfi']['RFInder_mode'] = 'use_flags'\n",
    "to see the actual flagging.\n",
    "Compare to predicted flagging (above)\n",
    "Keep predicted noise as a record to compare to output from imstat after making line cube\n",
    "Also generate a record of percentage of data flagged\n",
    "\"\"\"\n",
    "#do that here!"
   ]
  },
  {
   "cell_type": "code",
   "execution_count": 37,
   "metadata": {},
   "outputs": [
    {
     "name": "stderr",
     "output_type": "stream",
     "text": [
      "CONVERT - INFO : ### Configuration file /home/adams/apertif/DATA/cfg/UGC8261.cfg successfully read! ###\n"
     ]
    },
    {
     "name": "stdout",
     "output_type": "stream",
     "text": [
      "/data3/adams/apertif/UGC8261/00/crosscal\n",
      "/data3/adams/apertif/UGC8261/00/crosscal/UGC8261.mir\n"
     ]
    },
    {
     "data": {
      "text/plain": [
       "['',\n",
       " 'uvplt: Revision 1.18, 2014/05/21 04:34:59 UTC',\n",
       " '',\n",
       " '',\n",
       " '',\n",
       " ' %PGPLOT, Writing new GIF image as: amptime.gif_2',\n",
       " ' %PGPLOT, Writing new GIF image as: amptime.gif_3',\n",
       " ' %PGPLOT, Writing new GIF image as: amptime.gif_4']"
      ]
     },
     "execution_count": 37,
     "metadata": {},
     "output_type": "execute_result"
    }
   ],
   "source": [
    "#Run the convert module, may need to recompute uvcoordinates (w/ uvedit?)\n",
    "\"\"\"Make plots of:\n",
    "amplitude vs. time (uvplt)  (average over frequency?)\n",
    "ampltidue vs. uvdist (uvplt) (average over frequency?)\n",
    "amplitude vs. frequency (uvspec) (average over time?)\n",
    "Look at inspection plots for comparison/extra information\n",
    "\"\"\"\n",
    "\n",
    "#load apercal module, will be in that environment\n",
    "#But remember that things are complicated because apercal does directory changes\n",
    "#So always be explicit about where you are working\n",
    "convert = apercal.convert(cfgfile)\n",
    "\n",
    "#make sure in working directory\n",
    "subs.managefiles.director(convert,'ch',convert.crosscaldir)\n",
    "\n",
    "print os.getcwd()\n",
    "\n",
    "vis = convert.target\n",
    "mir = convert.target[:-3] +'.mir'\n",
    "\n",
    "\n",
    "v=convert.crosscaldir+'/'+mir\n",
    "print v\n",
    "\n",
    "#Do amplitude vs. time\n",
    "\n",
    "#mirplot.uvplt(vis=v, r=5., tempdir=\"/home/adams/mirtemp\", stokes=\"xx\", nxy=\"4,4\")\n",
    "uvplt = lib.miriad('uvplt')\n",
    "uvplt.vis = mir\n",
    "uvplt.axis ='time,amplitude'\n",
    "uvplt.line = 'chan,11008,1' #average all chans together, should be 16384 but this is old data\n",
    "uvplt.device='amptime.gif/gif'\n",
    "uvplt.nxy='4,4'\n",
    "uvplt.options='nocal,nopass' #not needed in general if done before crosscal step\n",
    "uvplt.log = '/home/adams/shakedown/amp_time_output.txt' #just to minimize output to screen\n",
    "uvplt.go()\n",
    "\n",
    "#os.system('convert amptime.ps amptime.png')\n"
   ]
  },
  {
   "cell_type": "code",
   "execution_count": 41,
   "metadata": {},
   "outputs": [],
   "source": [
    "#find all the output files and rename them as needed\n",
    "\n",
    "#find files with glob\n",
    "atpltlist_gif = glob.glob('amptime.gif*')\n",
    "#print atpltlist\n",
    "\n",
    "#append .png to end of all files\n",
    "for f in atpltlist_gif:\n",
    "    shutil.copyfile(f,f+'.png')\n"
   ]
  },
  {
   "cell_type": "code",
   "execution_count": 51,
   "metadata": {},
   "outputs": [
    {
     "name": "stdout",
     "output_type": "stream",
     "text": [
      "['/data3/adams/apertif/UGC8261/00/crosscal/amptime.gif.png', '/data3/adams/apertif/UGC8261/00/crosscal/amptime.gif_2.png', '/data3/adams/apertif/UGC8261/00/crosscal/amptime.gif_3.png', '/data3/adams/apertif/UGC8261/00/crosscal/amptime.gif_4.png']\n",
      "[<IPython.core.display.Image object>, <IPython.core.display.Image object>, <IPython.core.display.Image object>, <IPython.core.display.Image object>]\n"
     ]
    },
    {
     "name": "stderr",
     "output_type": "stream",
     "text": [
      "/home/apercal/pipeline/local/lib/python2.7/site-packages/IPython/core/formatters.py:364: FormatterWarning: image/png formatter returned invalid type <type 'tuple'> (expected (<type 'str'>, <type 'unicode'>)) for object: <IPython.core.display.Image object>\n",
      "  FormatterWarning\n"
     ]
    },
    {
     "data": {
      "text/plain": [
       "<IPython.core.display.Image object>"
      ]
     },
     "metadata": {},
     "output_type": "display_data"
    }
   ],
   "source": [
    "atpltlist_png = glob.glob(convert.crosscaldir+'/'+'amptime.gif*png')\n",
    "print atpltlist_png\n",
    "from IPython.display import display\n",
    "\n",
    "imglist = []\n",
    "for f in enumerate(atpltlist_png):\n",
    "    imglist.append( Image(f)) \n",
    "    \n",
    "#display(imgarray)\n",
    "print imglist\n",
    "display(imglist[0])"
   ]
  },
  {
   "cell_type": "code",
   "execution_count": 45,
   "metadata": {},
   "outputs": [
    {
     "name": "stdout",
     "output_type": "stream",
     "text": [
      "/data3/adams/apertif/UGC8261/00/crosscal/amptime.gif.png\n",
      "/data3/adams/apertif/UGC8261/00/crosscal/amptime.gif_2.png\n",
      "/data3/adams/apertif/UGC8261/00/crosscal/amptime.gif_3.png\n",
      "/data3/adams/apertif/UGC8261/00/crosscal/amptime.gif_4.png\n"
     ]
    },
    {
     "data": {
      "image/png": "[encoded data removed]",
      "text/plain": [
       "<IPython.core.display.Image object>"
      ]
     },
     "execution_count": 45,
     "metadata": {},
     "output_type": "execute_result"
    }
   ],
   "source": [
    "#Copied *gif to png since they're actually saved as single frames\n",
    "#So now diplay those:\n",
    "atpltlist_png = glob.glob('amptime.gif*png')\n",
    "for f in atpltlist_png:\n",
    "        fpath = '/data3/adams/apertif/UGC8261/00/crosscal/' + f\n",
    "        print fpath\n",
    "        Image(filename=fpath)\n",
    "#Image(filename='/data3/adams/apertif/UGC8261/00/crosscal/amptime.png') \n",
    "\n",
    "from IPython.display import Image\n",
    "from IPython.display import display\n",
    "x = Image(filename='1.png') \n",
    "y = Image(filename='2.png') \n",
    "display(x, y)\n",
    "\n",
    "\n",
    "Image(filename='/data3/adams/apertif/UGC8261/00/crosscal/amptime.gif.png')"
   ]
  },
  {
   "cell_type": "code",
   "execution_count": 36,
   "metadata": {},
   "outputs": [
    {
     "ename": "ValueError",
     "evalue": "Cannot embed the 'gif' image format",
     "output_type": "error",
     "traceback": [
      "\u001b[0;31m---------------------------------------------------------------------------\u001b[0m",
      "\u001b[0;31mValueError\u001b[0m                                Traceback (most recent call last)",
      "\u001b[0;32m<ipython-input-36-c8ac57a4edab>\u001b[0m in \u001b[0;36m<module>\u001b[0;34m()\u001b[0m\n\u001b[1;32m      1\u001b[0m \u001b[0;32mfrom\u001b[0m \u001b[0mIPython\u001b[0m\u001b[0;34m.\u001b[0m\u001b[0mdisplay\u001b[0m \u001b[0;32mimport\u001b[0m \u001b[0mImage\u001b[0m\u001b[0;34m\u001b[0m\u001b[0m\n\u001b[0;32m----> 2\u001b[0;31m \u001b[0mImage\u001b[0m\u001b[0;34m(\u001b[0m\u001b[0mfilename\u001b[0m\u001b[0;34m=\u001b[0m\u001b[0;34m'/data3/adams/apertif/UGC8261/00/crosscal/amptime.gif'\u001b[0m\u001b[0;34m)\u001b[0m\u001b[0;34m\u001b[0m\u001b[0m\n\u001b[0m",
      "\u001b[0;32m/home/apercal/pipeline/local/lib/python2.7/site-packages/IPython/core/display.pyc\u001b[0m in \u001b[0;36m__init__\u001b[0;34m(self, data, url, filename, format, embed, width, height, retina, unconfined, metadata)\u001b[0m\n\u001b[1;32m   1013\u001b[0m \u001b[0;34m\u001b[0m\u001b[0m\n\u001b[1;32m   1014\u001b[0m         \u001b[0;32mif\u001b[0m \u001b[0mself\u001b[0m\u001b[0;34m.\u001b[0m\u001b[0membed\u001b[0m \u001b[0;32mand\u001b[0m \u001b[0mself\u001b[0m\u001b[0;34m.\u001b[0m\u001b[0mformat\u001b[0m \u001b[0;32mnot\u001b[0m \u001b[0;32min\u001b[0m \u001b[0mself\u001b[0m\u001b[0;34m.\u001b[0m\u001b[0m_ACCEPTABLE_EMBEDDINGS\u001b[0m\u001b[0;34m:\u001b[0m\u001b[0;34m\u001b[0m\u001b[0m\n\u001b[0;32m-> 1015\u001b[0;31m             \u001b[0;32mraise\u001b[0m \u001b[0mValueError\u001b[0m\u001b[0;34m(\u001b[0m\u001b[0;34m\"Cannot embed the '%s' image format\"\u001b[0m \u001b[0;34m%\u001b[0m \u001b[0;34m(\u001b[0m\u001b[0mself\u001b[0m\u001b[0;34m.\u001b[0m\u001b[0mformat\u001b[0m\u001b[0;34m)\u001b[0m\u001b[0;34m)\u001b[0m\u001b[0;34m\u001b[0m\u001b[0m\n\u001b[0m\u001b[1;32m   1016\u001b[0m         \u001b[0mself\u001b[0m\u001b[0;34m.\u001b[0m\u001b[0mwidth\u001b[0m \u001b[0;34m=\u001b[0m \u001b[0mwidth\u001b[0m\u001b[0;34m\u001b[0m\u001b[0m\n\u001b[1;32m   1017\u001b[0m         \u001b[0mself\u001b[0m\u001b[0;34m.\u001b[0m\u001b[0mheight\u001b[0m \u001b[0;34m=\u001b[0m \u001b[0mheight\u001b[0m\u001b[0;34m\u001b[0m\u001b[0m\n",
      "\u001b[0;31mValueError\u001b[0m: Cannot embed the 'gif' image format"
     ]
    }
   ],
   "source": [
    "from IPython.display import Image\n",
    "Image(filename='/data3/adams/apertif/UGC8261/00/crosscal/amptime.gif') "
   ]
  },
  {
   "cell_type": "code",
   "execution_count": null,
   "metadata": {},
   "outputs": [],
   "source": [
    "![SegmentLocal](/Users/username/some-folder/191px-Seven_segment_display-animated.gif \"segment\")#Run the cross-calibration module\n",
    "\n",
    "\"\"\"\n",
    "Plot bandpass solution (amplitude & phase)\n",
    "Print gain amplitude solutions\n",
    "\"\"\""
   ]
  },
  {
   "cell_type": "code",
   "execution_count": null,
   "metadata": {},
   "outputs": [],
   "source": [
    "#Run the self-calibration module\n",
    "\n",
    "\"\"\"\n",
    "Plot gains as function of time per antenna\n",
    "Display images of final image and mask for each chunk \n",
    "    (or save to file?, need for all beams, disply just for central beam?)\n",
    "\"\"\""
   ]
  },
  {
   "cell_type": "code",
   "execution_count": null,
   "metadata": {},
   "outputs": [],
   "source": [
    "#Run the continuum imaging module\n",
    "\"\"\"\n",
    "Calculate noise and compare to expected noise (print and record)\n",
    "DR estimate (how to automate?)\n",
    "Display final image (center beam, save to file for other beams?)\n",
    "\"\"\""
   ]
  },
  {
   "cell_type": "code",
   "execution_count": null,
   "metadata": {},
   "outputs": [],
   "source": [
    "#Run the line imaging module\n",
    "\"\"\"\n",
    "Noise vs. expected as function of frequency\n",
    "    -Also compare to predictions from RFInder\n",
    "Produce spectrum within a box at a given offset from center\n",
    "\"\"\""
   ]
  },
  {
   "cell_type": "code",
   "execution_count": null,
   "metadata": {},
   "outputs": [],
   "source": [
    "#Run the transfer module"
   ]
  }
 ],
 "metadata": {
  "kernelspec": {
   "display_name": "Python 2",
   "language": "python",
   "name": "python2"
  },
  "language_info": {
   "codemirror_mode": {
    "name": "ipython",
    "version": 2
   },
   "file_extension": ".py",
   "mimetype": "text/x-python",
   "name": "python",
   "nbconvert_exporter": "python",
   "pygments_lexer": "ipython2",
   "version": "2.7.12"
  }
 },
 "nbformat": 4,
 "nbformat_minor": 2
}
