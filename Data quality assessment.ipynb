{
 "cells": [
  {
   "cell_type": "markdown",
   "metadata": {},
   "source": [
    "This notebook outlines the data quality assessment steps.\n",
    "Using test dataset /data3/adams/apertif/UGC8261, with configuration file /home/adams/apertif/DATA/cfg/UGC8261.cfg (http://happili-01.astron.nl:8002/edit/apertif/DATA/cfg/UGC8261.cfg). Or does someone else have a better example dataset?\n",
    "\n",
    "\n",
    "Overall question for data assessment - how do we record? Google form for shakedown maybe, but should some of this go in the Apertif Task Database and/or ALTA?"
   ]
  },
  {
   "cell_type": "code",
   "execution_count": 4,
   "metadata": {},
   "outputs": [],
   "source": [
    "#Setup apercal environment\n",
    "import os;\n",
    "myusername = os.environ['USER']\n",
    "if not ('PYTHONPATH' in os.environ and\n",
    "        '/home/' + myusername + '/apercal' in os.environ['PYTHONPATH']):\n",
    "      print(\"WARNING: your apercal directory should be in the $PYTHONPATH\")\n",
    "        "
   ]
  },
  {
   "cell_type": "code",
   "execution_count": 5,
   "metadata": {},
   "outputs": [
    {
     "name": "stderr",
     "output_type": "stream",
     "text": [
      "root - INFO : Logging started!\n",
      "root - INFO : To see the log in a bash window use the following command:\n",
      "root - INFO : tail -n +1 -f /home/adams/apertif/DATA/logs/DQA.log\n"
     ]
    },
    {
     "name": "stdout",
     "output_type": "stream",
     "text": [
      "Setup logger with lib.setup_logger()\n"
     ]
    },
    {
     "data": {
      "text/plain": [
       "<logging.RootLogger at 0x7fb7d7e21c90>"
      ]
     },
     "execution_count": 5,
     "metadata": {},
     "output_type": "execute_result"
    }
   ],
   "source": [
    "#set up logging\n",
    "%config IPCompleter.greedy=True\n",
    "%matplotlib notebook\n",
    "import libs.lib as lib\n",
    "lib.setup_logger('info', logfile='/home/{}/apertif/DATA/logs/DQA.log'.format(myusername))"
   ]
  },
  {
   "cell_type": "code",
   "execution_count": 6,
   "metadata": {},
   "outputs": [],
   "source": [
    "import apercal"
   ]
  },
  {
   "cell_type": "code",
   "execution_count": 7,
   "metadata": {},
   "outputs": [],
   "source": [
    "#Read the parameter file used for the Apercal run\n",
    "cfgfile ='/home/adams/apertif/DATA/cfg/UGC8261.cfg'"
   ]
  },
  {
   "cell_type": "code",
   "execution_count": 25,
   "metadata": {},
   "outputs": [],
   "source": [
    "#import things needed for interacting with data\n",
    "import libs.lib as lib\n",
    "import subs.readmirlog\n",
    "import numpy as np\n",
    "from matplotlib import pyplot as plt\n",
    "import subs\n",
    "import sys\n",
    "\n",
    "sys.path.append('/home/adams/python')\n",
    "import mirplot #developed by Brad, at https://github.com/foxmouldy/apercal/blob/master/mirplot.py\n"
   ]
  },
  {
   "cell_type": "code",
   "execution_count": 1,
   "metadata": {},
   "outputs": [
    {
     "data": {
      "text/plain": [
       "'Use RFInder to estimate the amount of RFI present in dataset'"
      ]
     },
     "execution_count": 1,
     "metadata": {},
     "output_type": "execute_result"
    }
   ],
   "source": [
    "#Run the prepare module\n",
    "\n",
    "\"\"\"Use RFInder to estimate the amount of RFI present in dataset\"\"\"\n",
    "#do that here!"
   ]
  },
  {
   "cell_type": "code",
   "execution_count": 2,
   "metadata": {},
   "outputs": [
    {
     "data": {
      "text/plain": [
       "\"Use RFInder with rfi_par.cfg_par['rfi']['RFInder_mode'] = 'use_flags'\\nto see the actual flagging.\\nCompare to predicted flagging (above)\\nKeep predicted noise as a record to compare to output from imstat after making line cube\\n\""
      ]
     },
     "execution_count": 2,
     "metadata": {},
     "output_type": "execute_result"
    }
   ],
   "source": [
    "#Run the flagging module - preflag, bandpass, aoflagger\n",
    "\n",
    "\"\"\"Use RFInder with rfi_par.cfg_par['rfi']['RFInder_mode'] = 'use_flags'\n",
    "to see the actual flagging.\n",
    "Compare to predicted flagging (above)\n",
    "Keep predicted noise as a record to compare to output from imstat after making line cube\n",
    "Also generate a record of percentage of data flagged\n",
    "\"\"\"\n",
    "#do that here!"
   ]
  },
  {
   "cell_type": "code",
   "execution_count": 32,
   "metadata": {},
   "outputs": [
    {
     "name": "stderr",
     "output_type": "stream",
     "text": [
      "CONVERT - INFO : ### Configuration file /home/adams/apertif/DATA/cfg/UGC8261.cfg successfully read! ###\n"
     ]
    },
    {
     "name": "stdout",
     "output_type": "stream",
     "text": [
      "/data3/adams/apertif/UGC8261/00/crosscal/UGC8261.mir\n"
     ]
    },
    {
     "ename": "IOError",
     "evalue": "[Errno 2] No such file or directory: '/home/adams/mirtemp/uvplt.m4v'",
     "output_type": "error",
     "traceback": [
      "\u001b[0;31m---------------------------------------------------------------------------\u001b[0m",
      "\u001b[0;31mIOError\u001b[0m                                   Traceback (most recent call last)",
      "\u001b[0;32m<ipython-input-32-3b51d873ff1b>\u001b[0m in \u001b[0;36m<module>\u001b[0;34m()\u001b[0m\n\u001b[1;32m     24\u001b[0m \u001b[0;31m#Do amplitude vs. time\u001b[0m\u001b[0;34m\u001b[0m\u001b[0;34m\u001b[0m\u001b[0m\n\u001b[1;32m     25\u001b[0m \u001b[0;34m\u001b[0m\u001b[0m\n\u001b[0;32m---> 26\u001b[0;31m \u001b[0mmirplot\u001b[0m\u001b[0;34m.\u001b[0m\u001b[0muvplt\u001b[0m\u001b[0;34m(\u001b[0m\u001b[0mvis\u001b[0m\u001b[0;34m=\u001b[0m\u001b[0mv\u001b[0m\u001b[0;34m,\u001b[0m \u001b[0mr\u001b[0m\u001b[0;34m=\u001b[0m\u001b[0;36m5.\u001b[0m\u001b[0;34m,\u001b[0m \u001b[0mtempdir\u001b[0m\u001b[0;34m=\u001b[0m\u001b[0;34m\"/home/adams/mirtemp\"\u001b[0m\u001b[0;34m,\u001b[0m \u001b[0mstokes\u001b[0m\u001b[0;34m=\u001b[0m\u001b[0;34m\"xx\"\u001b[0m\u001b[0;34m,\u001b[0m \u001b[0mnxy\u001b[0m\u001b[0;34m=\u001b[0m\u001b[0;34m\"4,4\"\u001b[0m\u001b[0;34m)\u001b[0m\u001b[0;34m\u001b[0m\u001b[0m\n\u001b[0m\u001b[1;32m     27\u001b[0m \"\"\"\n\u001b[1;32m     28\u001b[0m \u001b[0muvplt\u001b[0m \u001b[0;34m=\u001b[0m \u001b[0mlib\u001b[0m\u001b[0;34m.\u001b[0m\u001b[0mmiriad\u001b[0m\u001b[0;34m(\u001b[0m\u001b[0;34m'uvplt'\u001b[0m\u001b[0;34m)\u001b[0m\u001b[0;34m\u001b[0m\u001b[0m\n",
      "\u001b[0;32m/home/adams/python/mirplot.py\u001b[0m in \u001b[0;36muvplt\u001b[0;34m(vis, r, tempdir, **kwargs)\u001b[0m\n\u001b[1;32m    211\u001b[0m         \u001b[0msys\u001b[0m\u001b[0;34m.\u001b[0m\u001b[0mexit\u001b[0m\u001b[0;34m(\u001b[0m\u001b[0;34m\"UVPLT Oops: \"\u001b[0m\u001b[0;34m+\u001b[0m\u001b[0mE\u001b[0m\u001b[0;34m)\u001b[0m\u001b[0;34m\u001b[0m\u001b[0m\n\u001b[1;32m    212\u001b[0m     \u001b[0;31m# Get the output from vidshow\u001b[0m\u001b[0;34m\u001b[0m\u001b[0;34m\u001b[0m\u001b[0m\n\u001b[0;32m--> 213\u001b[0;31m     \u001b[0mHTML\u001b[0m \u001b[0;34m=\u001b[0m \u001b[0mvidshow\u001b[0m\u001b[0;34m(\u001b[0m\u001b[0mU\u001b[0m\u001b[0;34m=\u001b[0m\u001b[0mU\u001b[0m\u001b[0;34m,\u001b[0m \u001b[0mtempdir\u001b[0m\u001b[0;34m=\u001b[0m\u001b[0mtempdir\u001b[0m\u001b[0;34m,\u001b[0m \u001b[0mvidname\u001b[0m\u001b[0;34m=\u001b[0m\u001b[0;34m\"uvplt.m4v\"\u001b[0m\u001b[0;34m,\u001b[0m \u001b[0mr\u001b[0m\u001b[0;34m=\u001b[0m\u001b[0mr\u001b[0m\u001b[0;34m)\u001b[0m\u001b[0;34m\u001b[0m\u001b[0m\n\u001b[0m\u001b[1;32m    214\u001b[0m \u001b[0;34m\u001b[0m\u001b[0m\n\u001b[1;32m    215\u001b[0m     \u001b[0;31m# Return the HTML object to the IPython Notebook for Embedding\u001b[0m\u001b[0;34m\u001b[0m\u001b[0;34m\u001b[0m\u001b[0m\n",
      "\u001b[0;32m/home/adams/python/mirplot.py\u001b[0m in \u001b[0;36mvidshow\u001b[0;34m(U, tempdir, vidname, r)\u001b[0m\n\u001b[1;32m    165\u001b[0m     \u001b[0;31m# Delete the intermediate gifs\u001b[0m\u001b[0;34m\u001b[0m\u001b[0;34m\u001b[0m\u001b[0m\n\u001b[1;32m    166\u001b[0m     \u001b[0mshrun\u001b[0m\u001b[0;34m(\u001b[0m\u001b[0;34m\"rm \"\u001b[0m\u001b[0;34m+\u001b[0m\u001b[0mtempdir\u001b[0m\u001b[0;34m+\u001b[0m\u001b[0;34m\"/pgplot*.gif\"\u001b[0m\u001b[0;34m)\u001b[0m\u001b[0;34m\u001b[0m\u001b[0m\n\u001b[0;32m--> 167\u001b[0;31m     \u001b[0mvideo\u001b[0m \u001b[0;34m=\u001b[0m \u001b[0mio\u001b[0m\u001b[0;34m.\u001b[0m\u001b[0mopen\u001b[0m\u001b[0;34m(\u001b[0m\u001b[0mtempdir\u001b[0m\u001b[0;34m+\u001b[0m\u001b[0;34m\"/\"\u001b[0m\u001b[0;34m+\u001b[0m\u001b[0mvidname\u001b[0m\u001b[0;34m,\u001b[0m \u001b[0;34m\"rb\"\u001b[0m\u001b[0;34m)\u001b[0m\u001b[0;34m.\u001b[0m\u001b[0mread\u001b[0m\u001b[0;34m(\u001b[0m\u001b[0;34m)\u001b[0m\u001b[0;34m\u001b[0m\u001b[0m\n\u001b[0m\u001b[1;32m    168\u001b[0m     \u001b[0mvideo_encoded\u001b[0m \u001b[0;34m=\u001b[0m \u001b[0mb64encode\u001b[0m\u001b[0;34m(\u001b[0m\u001b[0mvideo\u001b[0m\u001b[0;34m)\u001b[0m\u001b[0;34m\u001b[0m\u001b[0m\n\u001b[1;32m    169\u001b[0m     \u001b[0mvideo_tag\u001b[0m \u001b[0;34m=\u001b[0m \u001b[0;34m'<video controls alt=\"test\" src=\"data:video/x-m4v;base64,{0}\">'\u001b[0m\u001b[0;34m.\u001b[0m\u001b[0mformat\u001b[0m\u001b[0;34m(\u001b[0m\u001b[0mvideo_encoded\u001b[0m\u001b[0;34m)\u001b[0m\u001b[0;34m\u001b[0m\u001b[0m\n",
      "\u001b[0;31mIOError\u001b[0m: [Errno 2] No such file or directory: '/home/adams/mirtemp/uvplt.m4v'"
     ]
    }
   ],
   "source": [
    "#Run the convert module, may need to recompute uvcoordinates (w/ uvedit?)\n",
    "\"\"\"Make plots of:\n",
    "amplitude vs. time (uvplt)  (average over frequency?)\n",
    "ampltidue vs. uvdist (uvplt) (average over frequency?)\n",
    "amplitude vs. frequency (uvspec) (average over time?)\n",
    "Look at inspection plots for comparison/extra information\n",
    "\"\"\"\n",
    "\n",
    "#load apercal module, will be in that environment\n",
    "#But remember that things are complicated because apercal does directory changes\n",
    "#So always be explicit about where you are working\n",
    "convert = apercal.convert(cfgfile)\n",
    "\n",
    "#make sure in working directory\n",
    "subs.managefiles.director(convert,'ch',convert.crosscaldir)\n",
    "\n",
    "vis = convert.target\n",
    "mir = convert.target[:-3] +'.mir'\n",
    "\n",
    "\n",
    "v=convert.crosscaldir+'/'+mir\n",
    "print v\n",
    "\n",
    "#Do amplitude vs. time\n",
    "\n",
    "mirplot.uvplt(vis=v, r=5., tempdir=\"/home/adams/mirtemp\", stokes=\"xx\", nxy=\"4,4\")\n",
    "\"\"\"\n",
    "uvplt = lib.miriad('uvplt')\n",
    "uvplt.vis = mir\n",
    "uvplt.axis ='time,amplitude'\n",
    "uvplt.line = 'chan,11008,1' #average all chans together, should be 16384 but this is old data\n",
    "uvplt.device='amptime.ps/ps'\n",
    "uvplt.nxy='4,4'\n",
    "uvplt.log = '/home/adams/shakedown/amp_time_output.txt'\n",
    "uvplt.go()\n",
    "\n",
    "os.system('convert amptime.ps amptime.png')\n",
    "\"\"\""
   ]
  },
  {
   "cell_type": "markdown",
   "metadata": {},
   "source": []
  },
  {
   "cell_type": "code",
   "execution_count": null,
   "metadata": {},
   "outputs": [],
   "source": [
    "#Run the cross-calibration module\n",
    "\n",
    "\"\"\"\n",
    "Plot bandpass solution (amplitude & phase)\n",
    "Print gain amplitude solutions\n",
    "\"\"\""
   ]
  },
  {
   "cell_type": "code",
   "execution_count": null,
   "metadata": {},
   "outputs": [],
   "source": [
    "#Run the self-calibration module\n",
    "\n",
    "\"\"\"\n",
    "Plot gains as function of time per antenna\n",
    "Display images of final image and mask for each chunk \n",
    "    (or save to file?, need for all beams, disply just for central beam?)\n",
    "\"\"\""
   ]
  },
  {
   "cell_type": "code",
   "execution_count": null,
   "metadata": {},
   "outputs": [],
   "source": [
    "#Run the continuum imaging module\n",
    "\"\"\"\n",
    "Calculate noise and compare to expected noise (print and record)\n",
    "DR estimate (how to automate?)\n",
    "Display final image (center beam, save to file for other beams?)\n",
    "\"\"\""
   ]
  },
  {
   "cell_type": "code",
   "execution_count": null,
   "metadata": {},
   "outputs": [],
   "source": [
    "#Run the line imaging module\n",
    "\"\"\"\n",
    "Noise vs. expected as function of frequency\n",
    "    -Also compare to predictions from RFInder\n",
    "Produce spectrum within a box at a given offset from center\n",
    "\"\"\""
   ]
  },
  {
   "cell_type": "code",
   "execution_count": null,
   "metadata": {},
   "outputs": [],
   "source": [
    "#Run the transfer module"
   ]
  }
 ],
 "metadata": {
  "kernelspec": {
   "display_name": "Python 2",
   "language": "python",
   "name": "python2"
  },
  "language_info": {
   "codemirror_mode": {
    "name": "ipython",
    "version": 2
   },
   "file_extension": ".py",
   "mimetype": "text/x-python",
   "name": "python",
   "nbconvert_exporter": "python",
   "pygments_lexer": "ipython2",
   "version": "2.7.12"
  }
 },
 "nbformat": 4,
 "nbformat_minor": 2
}
